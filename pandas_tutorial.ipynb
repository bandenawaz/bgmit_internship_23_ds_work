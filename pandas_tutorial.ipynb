{
  "nbformat": 4,
  "nbformat_minor": 0,
  "metadata": {
    "colab": {
      "provenance": [],
      "authorship_tag": "ABX9TyPY428r0/D8yU8u8iRR7E/P",
      "include_colab_link": true
    },
    "kernelspec": {
      "name": "python3",
      "display_name": "Python 3"
    },
    "language_info": {
      "name": "python"
    }
  },
  "cells": [
    {
      "cell_type": "markdown",
      "metadata": {
        "id": "view-in-github",
        "colab_type": "text"
      },
      "source": [
        "<a href=\"https://colab.research.google.com/github/bandenawaz/bgmit_internship_23_ds_work/blob/main/pandas_tutorial.ipynb\" target=\"_parent\"><img src=\"https://colab.research.google.com/assets/colab-badge.svg\" alt=\"Open In Colab\"/></a>"
      ]
    },
    {
      "cell_type": "markdown",
      "source": [
        "# **Pandas**\n",
        "\n",
        "A python library to deal with sequential and tabular data.\n",
        "\n",
        "It has two data structures\n",
        "1. **Series:** It is one dimensional labelled array\n",
        "capable of holding data of type(int, string,float,objects)\n",
        "\n",
        "The axis labels are collectively called as **index**.\n",
        "\n",
        "Python Series is nothing but a column in excel sheet.\n",
        "\n",
        "**installing pandas**\n",
        "1. pip install pandas #local machine\n",
        "2. conda install pandas #for anaconda terminal\n",
        "3. !pip install -g pandas # for notebooks(jupyter, colab)\n",
        "\n"
      ],
      "metadata": {
        "id": "FLOpYG3hI0f2"
      }
    },
    {
      "cell_type": "code",
      "source": [
        "import pandas as pd\n",
        "import numpy as np\n"
      ],
      "metadata": {
        "id": "_fvkH4hIbdKw"
      },
      "execution_count": 1,
      "outputs": []
    },
    {
      "cell_type": "code",
      "source": [
        "#lets create simple pandas series\n",
        "ser = pd.Series(dtype=object)\n",
        "print(ser)"
      ],
      "metadata": {
        "colab": {
          "base_uri": "https://localhost:8080/"
        },
        "id": "6mv5b5pGbn5t",
        "outputId": "c6d494a0-a754-4b0c-badb-8ddd1e9f0b45"
      },
      "execution_count": 3,
      "outputs": [
        {
          "output_type": "stream",
          "name": "stdout",
          "text": [
            "Series([], dtype: object)\n"
          ]
        }
      ]
    },
    {
      "cell_type": "code",
      "source": [
        "#lets create an series with array\n",
        "data = np.array([1,2,3,4,5,6,7,8,9,10])\n",
        "pd.Series(data)\n"
      ],
      "metadata": {
        "colab": {
          "base_uri": "https://localhost:8080/"
        },
        "id": "EfI2TV_5bzbk",
        "outputId": "09d6ff7d-d42b-42a7-d0f7-02e492693329"
      },
      "execution_count": 4,
      "outputs": [
        {
          "output_type": "execute_result",
          "data": {
            "text/plain": [
              "0     1\n",
              "1     2\n",
              "2     3\n",
              "3     4\n",
              "4     5\n",
              "5     6\n",
              "6     7\n",
              "7     8\n",
              "8     9\n",
              "9    10\n",
              "dtype: int64"
            ]
          },
          "metadata": {},
          "execution_count": 4
        }
      ]
    },
    {
      "cell_type": "code",
      "source": [
        "#lets create an series with string array\n",
        "arr = ['d','a','t','a','s','c','i','e','n','c','e']\n",
        "print(pd.Series(arr))"
      ],
      "metadata": {
        "colab": {
          "base_uri": "https://localhost:8080/"
        },
        "id": "btut35EtcZoU",
        "outputId": "9a616ceb-7ed0-45bc-862d-4525e038f8ff"
      },
      "execution_count": 5,
      "outputs": [
        {
          "output_type": "stream",
          "name": "stdout",
          "text": [
            "0     d\n",
            "1     a\n",
            "2     t\n",
            "3     a\n",
            "4     s\n",
            "5     c\n",
            "6     i\n",
            "7     e\n",
            "8     n\n",
            "9     c\n",
            "10    e\n",
            "dtype: object\n"
          ]
        }
      ]
    },
    {
      "cell_type": "code",
      "source": [
        "lst = ['Python',3.12,7*9,8//4,5>7]\n",
        "pdLst = pd.Series(lst)\n",
        "print(pdLst, type(pdLst))"
      ],
      "metadata": {
        "colab": {
          "base_uri": "https://localhost:8080/"
        },
        "id": "GgN7ka5teCEA",
        "outputId": "4303153e-472e-43f1-ee43-6ef070da64cf"
      },
      "execution_count": 11,
      "outputs": [
        {
          "output_type": "stream",
          "name": "stdout",
          "text": [
            "0    Python\n",
            "1      3.12\n",
            "2        63\n",
            "3         2\n",
            "4     False\n",
            "dtype: object <class 'pandas.core.series.Series'>\n"
          ]
        }
      ]
    },
    {
      "cell_type": "code",
      "source": [
        "#lets create series using dictionary\n",
        "d = {\n",
        "    'a':1,'b':2,'c':3\n",
        "}\n",
        "pdDict = pd.Series(d)\n",
        "print(pdDict, type(pdDict))"
      ],
      "metadata": {
        "colab": {
          "base_uri": "https://localhost:8080/"
        },
        "id": "N4QPEpVZf5oh",
        "outputId": "5332fdf2-654b-4752-8a16-6a8b072a02c4"
      },
      "execution_count": 12,
      "outputs": [
        {
          "output_type": "stream",
          "name": "stdout",
          "text": [
            "a    1\n",
            "b    2\n",
            "c    3\n",
            "dtype: int64 <class 'pandas.core.series.Series'>\n"
          ]
        }
      ]
    },
    {
      "cell_type": "code",
      "source": [],
      "metadata": {
        "id": "XalCmxu4gUJ4"
      },
      "execution_count": null,
      "outputs": []
    }
  ]
}